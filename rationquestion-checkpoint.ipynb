{
 "cells": [
  {
   "cell_type": "code",
   "execution_count": 55,
   "id": "5ae82c96",
   "metadata": {},
   "outputs": [],
   "source": [
    "import pandas as pd\n"
   ]
  },
  {
   "cell_type": "code",
   "execution_count": 56,
   "id": "9dbe34bd",
   "metadata": {},
   "outputs": [],
   "source": [
    "xls = pd.ExcelFile(\"C:\\\\Users\\\\saske\\\\Documents\\\\GC_Task_Sheet.xlsx\")\n",
    "df = pd.read_excel(xls, 'session_sum')"
   ]
  },
  {
   "cell_type": "code",
   "execution_count": 57,
   "id": "ec7a9c33",
   "metadata": {},
   "outputs": [
    {
     "data": {
      "text/html": [
       "<div>\n",
       "<style scoped>\n",
       "    .dataframe tbody tr th:only-of-type {\n",
       "        vertical-align: middle;\n",
       "    }\n",
       "\n",
       "    .dataframe tbody tr th {\n",
       "        vertical-align: top;\n",
       "    }\n",
       "\n",
       "    .dataframe thead th {\n",
       "        text-align: right;\n",
       "    }\n",
       "</style>\n",
       "<table border=\"1\" class=\"dataframe\">\n",
       "  <thead>\n",
       "    <tr style=\"text-align: right;\">\n",
       "      <th></th>\n",
       "      <th>is_rp</th>\n",
       "      <th>signup_start</th>\n",
       "      <th>signup_complete</th>\n",
       "      <th>active_after_7d</th>\n",
       "    </tr>\n",
       "  </thead>\n",
       "  <tbody>\n",
       "    <tr>\n",
       "      <th>0</th>\n",
       "      <td>75</td>\n",
       "      <td>71</td>\n",
       "      <td>61</td>\n",
       "      <td>60</td>\n",
       "    </tr>\n",
       "  </tbody>\n",
       "</table>\n",
       "</div>"
      ],
      "text/plain": [
       "   is_rp  signup_start  signup_complete  active_after_7d\n",
       "0     75            71               61               60"
      ]
     },
     "execution_count": 57,
     "metadata": {},
     "output_type": "execute_result"
    }
   ],
   "source": [
    "df"
   ]
  },
  {
   "cell_type": "code",
   "execution_count": 58,
   "id": "79405da9",
   "metadata": {},
   "outputs": [],
   "source": [
    "def ratio():\n",
    " \n",
    "    return {'signup_start':df3['signup_start']/df3['is_rp'], 'signup_complete':  df1['signup_complete']/df1['signup_start'],\n",
    "                'active_after_7d':df1['active_after_7d']/df1['signup_complete']}\n",
    "\n",
    "df1= df.append(ratio(),ignore_index=True)\n"
   ]
  },
  {
   "cell_type": "code",
   "execution_count": 59,
   "id": "08c76251",
   "metadata": {},
   "outputs": [
    {
     "data": {
      "text/html": [
       "<div>\n",
       "<style scoped>\n",
       "    .dataframe tbody tr th:only-of-type {\n",
       "        vertical-align: middle;\n",
       "    }\n",
       "\n",
       "    .dataframe tbody tr th {\n",
       "        vertical-align: top;\n",
       "    }\n",
       "\n",
       "    .dataframe thead th {\n",
       "        text-align: right;\n",
       "    }\n",
       "</style>\n",
       "<table border=\"1\" class=\"dataframe\">\n",
       "  <thead>\n",
       "    <tr style=\"text-align: right;\">\n",
       "      <th></th>\n",
       "      <th>is_rp</th>\n",
       "      <th>signup_start</th>\n",
       "      <th>signup_complete</th>\n",
       "      <th>active_after_7d</th>\n",
       "    </tr>\n",
       "  </thead>\n",
       "  <tbody>\n",
       "    <tr>\n",
       "      <th>0</th>\n",
       "      <td>75.0</td>\n",
       "      <td>71</td>\n",
       "      <td>61</td>\n",
       "      <td>60</td>\n",
       "    </tr>\n",
       "    <tr>\n",
       "      <th>1</th>\n",
       "      <td>NaN</td>\n",
       "      <td>0    0.946667\n",
       "dtype: float64</td>\n",
       "      <td>0                                             ...</td>\n",
       "      <td>0                                             ...</td>\n",
       "    </tr>\n",
       "  </tbody>\n",
       "</table>\n",
       "</div>"
      ],
      "text/plain": [
       "   is_rp                  signup_start  \\\n",
       "0   75.0                            71   \n",
       "1    NaN  0    0.946667\n",
       "dtype: float64   \n",
       "\n",
       "                                     signup_complete  \\\n",
       "0                                                 61   \n",
       "1  0                                             ...   \n",
       "\n",
       "                                     active_after_7d  \n",
       "0                                                 60  \n",
       "1  0                                             ...  "
      ]
     },
     "execution_count": 59,
     "metadata": {},
     "output_type": "execute_result"
    }
   ],
   "source": [
    "df1"
   ]
  },
  {
   "cell_type": "code",
   "execution_count": 60,
   "id": "720c4533",
   "metadata": {},
   "outputs": [],
   "source": [
    "df1.to_csv(r'C:\\\\Users\\\\saske\\\\Documents\\\\GC_Task_Sheet_ratio_question.csv')"
   ]
  }
 ],
 "metadata": {
  "kernelspec": {
   "display_name": "Python 3",
   "language": "python",
   "name": "python3"
  },
  "language_info": {
   "codemirror_mode": {
    "name": "ipython",
    "version": 3
   },
   "file_extension": ".py",
   "mimetype": "text/x-python",
   "name": "python",
   "nbconvert_exporter": "python",
   "pygments_lexer": "ipython3",
   "version": "3.9.5"
  }
 },
 "nbformat": 4,
 "nbformat_minor": 5
}
