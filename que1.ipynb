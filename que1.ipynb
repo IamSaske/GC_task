{
 "cells": [
  {
   "cell_type": "markdown",
   "id": "30b4a050",
   "metadata": {},
   "source": [
    "# SQL QUE1"
   ]
  },
  {
   "cell_type": "markdown",
   "id": "2ff44266",
   "metadata": {},
   "source": [
    ">SELECT ud.visitor_id,ud.session_id,ud.country,ud.event_date,sd.signup_start\n",
    "\n",
    ">from user_data ud\n",
    "\n",
    ">INNER JOIN session_data sd\n",
    "\n",
    ">ON ud.session_id=sd.session_id\n",
    "\n",
    ">where ud.Experiment_Number=10000 AND \n",
    "       ud.event_date BETWEEN 2021-05-03 AND 2021-05-09\n",
    "       \n",
    ">ORDER BY ud.event_date ASC;\n"
   ]
  }
 ],
 "metadata": {
  "kernelspec": {
   "display_name": "Python 3",
   "language": "python",
   "name": "python3"
  },
  "language_info": {
   "codemirror_mode": {
    "name": "ipython",
    "version": 3
   },
   "file_extension": ".py",
   "mimetype": "text/x-python",
   "name": "python",
   "nbconvert_exporter": "python",
   "pygments_lexer": "ipython3",
   "version": "3.9.5"
  }
 },
 "nbformat": 4,
 "nbformat_minor": 5
}
