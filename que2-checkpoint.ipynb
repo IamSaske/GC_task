{
 "cells": [
  {
   "cell_type": "markdown",
   "id": "b8909c10",
   "metadata": {},
   "source": [
    "# SQL QUESTION2"
   ]
  },
  {
   "cell_type": "markdown",
   "id": "6ded8ba7",
   "metadata": {},
   "source": [
    "> SELECT COUNT(CASE WHEN is_rp=1 THEN 1 ELSE NULL END) AS is_rp\n",
    "         \n",
    "         COUNT(CASE WHEN signup_start=1 THEN 1 ELSE NULL END) AS signup_start\n",
    "         \n",
    "         COUNT(CASE WHEN signup_complete=1 THEN 1 ELSE NULL END) AS signup_complete\n",
    "         \n",
    "         COUNT(CASE WHEN active_after_7d=1 THEN 1 ELSE NULL END) AS active_after_7d\n",
    "\n",
    "> FROM session_data\n",
    "         "
   ]
  }
 ],
 "metadata": {
  "kernelspec": {
   "display_name": "Python 3",
   "language": "python",
   "name": "python3"
  },
  "language_info": {
   "codemirror_mode": {
    "name": "ipython",
    "version": 3
   },
   "file_extension": ".py",
   "mimetype": "text/x-python",
   "name": "python",
   "nbconvert_exporter": "python",
   "pygments_lexer": "ipython3",
   "version": "3.9.5"
  }
 },
 "nbformat": 4,
 "nbformat_minor": 5
}
