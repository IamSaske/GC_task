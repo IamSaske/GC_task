{
 "cells": [
  {
   "cell_type": "code",
   "execution_count": 1,
   "id": "48e7ede8",
   "metadata": {},
   "outputs": [],
   "source": [
    "import pandas as pd"
   ]
  },
  {
   "cell_type": "code",
   "execution_count": 2,
   "id": "608b3a25",
   "metadata": {},
   "outputs": [
    {
     "name": "stdout",
     "output_type": "stream",
     "text": [
      "     Experiment Number  visitor_id  session_id page_name country event_date  \\\n",
      "0                10000         412         899   landing      us 2021-05-03   \n",
      "1                10000         111         847   landing      us 2021-05-03   \n",
      "2                10000         837         773   sign-up      us 2021-05-03   \n",
      "3                10000         779         936   landing      us 2021-05-03   \n",
      "4                10000         337         946   sign-up      us 2021-05-03   \n",
      "..                 ...         ...         ...       ...     ...        ...   \n",
      "124              10000         210         682   landing      ca 2021-05-09   \n",
      "125              10000         874         591  products      ca 2021-05-09   \n",
      "126              10000         934         346  products      us 2021-05-09   \n",
      "127              10000         824         923  products      us 2021-05-09   \n",
      "128              10000         552         988   landing      us 2021-05-09   \n",
      "\n",
      "     Unnamed: 6  Unnamed: 7  Unnamed: 8  \n",
      "0           NaN         NaN         NaN  \n",
      "1           NaN         NaN         NaN  \n",
      "2           NaN         NaN         NaN  \n",
      "3           NaN         NaN         NaN  \n",
      "4           NaN         NaN         NaN  \n",
      "..          ...         ...         ...  \n",
      "124         NaN         NaN         NaN  \n",
      "125         NaN         NaN         NaN  \n",
      "126         NaN         NaN         NaN  \n",
      "127         NaN         NaN         NaN  \n",
      "128         NaN         NaN         NaN  \n",
      "\n",
      "[129 rows x 9 columns]\n"
     ]
    }
   ],
   "source": [
    "df=pd.read_excel(\"C:\\\\Users\\\\saske\\\\Documents\\\\GC_Task_Sheet.xlsx\")\n",
    "print(df)"
   ]
  },
  {
   "cell_type": "code",
   "execution_count": 3,
   "id": "61887688",
   "metadata": {},
   "outputs": [],
   "source": [
    "column1=df.pop('event_date')\n",
    "df.insert(2,'event_date',column1)"
   ]
  },
  {
   "cell_type": "code",
   "execution_count": 4,
   "id": "cfdfaedd",
   "metadata": {},
   "outputs": [],
   "source": [
    "df1=df[df.columns[1:3]]"
   ]
  },
  {
   "cell_type": "code",
   "execution_count": 5,
   "id": "a7a12480",
   "metadata": {},
   "outputs": [
    {
     "name": "stderr",
     "output_type": "stream",
     "text": [
      "<ipython-input-5-cabd51e12eb4>:1: SettingWithCopyWarning: \n",
      "A value is trying to be set on a copy of a slice from a DataFrame.\n",
      "Try using .loc[row_indexer,col_indexer] = value instead\n",
      "\n",
      "See the caveats in the documentation: https://pandas.pydata.org/pandas-docs/stable/user_guide/indexing.html#returning-a-view-versus-a-copy\n",
      "  df1['event_date'] = df1['event_date'].astype(str)\n"
     ]
    }
   ],
   "source": [
    "df1['event_date'] = df1['event_date'].astype(str)"
   ]
  },
  {
   "cell_type": "code",
   "execution_count": 6,
   "id": "ee928327",
   "metadata": {},
   "outputs": [],
   "source": [
    "seriesObj = df1.apply(lambda x: True if '2021-05-03' in list(x) else False, axis=1)\n",
    "a= len(seriesObj[seriesObj == True].index)\n",
    "seriesObj = df1.apply(lambda x: True if '2021-05-04' in list(x) else False, axis=1)\n",
    "b= len(seriesObj[seriesObj == True].index)\n",
    "seriesObj = df1.apply(lambda x: True if '2021-05-05' in list(x) else False, axis=1)\n",
    "c= len(seriesObj[seriesObj == True].index)\n",
    "seriesObj = df1.apply(lambda x: True if '2021-05-06' in list(x) else False, axis=1)\n",
    "d= len(seriesObj[seriesObj == True].index)\n",
    "seriesObj = df1.apply(lambda x: True if '2021-05-07' in list(x) else False, axis=1)\n",
    "e= len(seriesObj[seriesObj == True].index)\n",
    "seriesObj = df1.apply(lambda x: True if '2021-05-08' in list(x) else False, axis=1)\n",
    "f= len(seriesObj[seriesObj == True].index)\n",
    "seriesObj = df1.apply(lambda x: True if '2021-05-09' in list(x) else False, axis=1)\n",
    "g= len(seriesObj[seriesObj == True].index)\n",
    "\n"
   ]
  },
  {
   "cell_type": "code",
   "execution_count": 7,
   "id": "09c5b033",
   "metadata": {},
   "outputs": [],
   "source": [
    "df2={'Daily_visitors':[a,b,c,d,e,f,g],\n",
    "      'event_date':['2021-05-03','2021-05-04','2021-05-05','2021-05-06','2021-05-07','2021-05-08','2021-05-09']}"
   ]
  },
  {
   "cell_type": "code",
   "execution_count": 8,
   "id": "91ac7153",
   "metadata": {},
   "outputs": [],
   "source": [
    "df3=pd.DataFrame(df2)"
   ]
  },
  {
   "cell_type": "code",
   "execution_count": 9,
   "id": "b5a4840d",
   "metadata": {},
   "outputs": [
    {
     "data": {
      "text/plain": [
       "<AxesSubplot:xlabel='event_date'>"
      ]
     },
     "execution_count": 9,
     "metadata": {},
     "output_type": "execute_result"
    },
    {
     "data": {
      "image/png": "[encoded data removed]",
      "text/plain": [
       "<Figure size 432x288 with 1 Axes>"
      ]
     },
     "metadata": {
      "needs_background": "light"
     },
     "output_type": "display_data"
    }
   ],
   "source": [
    "df3.plot(x=\"event_date\", y=[\"Daily_visitors\"], kind=\"bar\")"
   ]
  },
  {
   "cell_type": "code",
   "execution_count": null,
   "id": "9b7189de",
   "metadata": {},
   "outputs": [],
   "source": []
  }
 ],
 "metadata": {
  "kernelspec": {
   "display_name": "Python 3",
   "language": "python",
   "name": "python3"
  },
  "language_info": {
   "codemirror_mode": {
    "name": "ipython",
    "version": 3
   },
   "file_extension": ".py",
   "mimetype": "text/x-python",
   "name": "python",
   "nbconvert_exporter": "python",
   "pygments_lexer": "ipython3",
   "version": "3.9.5"
  }
 },
 "nbformat": 4,
 "nbformat_minor": 5
}
